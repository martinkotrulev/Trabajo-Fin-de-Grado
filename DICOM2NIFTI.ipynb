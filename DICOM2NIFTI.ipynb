{
 "cells": [
  {
   "cell_type": "code",
   "execution_count": 19,
   "metadata": {
    "scrolled": true
   },
   "outputs": [],
   "source": [
    "import dicom2nifti #Libreria para conversión de dicom a nifti\n",
    "import nibabel as nib #Libreria procesamiento neuroimagenes en NIFTI"
   ]
  },
  {
   "cell_type": "markdown",
   "metadata": {},
   "source": [
    "# PACIENTE KS_181011"
   ]
  },
  {
   "cell_type": "code",
   "execution_count": 24,
   "metadata": {},
   "outputs": [],
   "source": [
    "#SECUENCIA OPP (Nº SERIE 21)\n",
    "dicom_directory = 'C:\\\\Users\\\\Usuario\\\\Desktop\\\\universidad\\\\TFG\\\\UHF-MRI_HM\\\\UHF-MRI_HM\\\\KS_181011\\\\INVESTIGATORS_MHASKELL_20181011_152813_198000\\\\DIXON_VIBE_CAIPIRINHA_4_90DEG_ROT_OPP_0021'\n",
    "output_folder = 'C:\\\\Users\\\\Usuario\\\\Desktop\\\\universidad\\\\TFG\\\\NIFTI\\\\KS_181011\\\\DIXON_OPP'\n",
    "dicom2nifti.convert_directory(dicom_directory, output_folder, compression=True, reorient=True)"
   ]
  },
  {
   "cell_type": "code",
   "execution_count": 25,
   "metadata": {},
   "outputs": [],
   "source": [
    "img_1 = nib.load('C:\\\\Users\\\\Usuario\\\\Desktop\\\\universidad\\\\TFG\\\\NIFTI\\\\KS_181011\\\\DIXON_OPP\\\\21_dixon_vibe_caipirinha_4_90deg_rot_opp.nii')"
   ]
  },
  {
   "cell_type": "code",
   "execution_count": 26,
   "metadata": {},
   "outputs": [
    {
     "data": {
      "text/plain": [
       "(192, 128, 192)"
      ]
     },
     "execution_count": 26,
     "metadata": {},
     "output_type": "execute_result"
    }
   ],
   "source": [
    "img_1.shape"
   ]
  },
  {
   "cell_type": "code",
   "execution_count": 27,
   "metadata": {},
   "outputs": [],
   "source": [
    "#SECUENCIA W (Nº SERIE 24)\n",
    "dicom_directory = 'C:\\\\Users\\\\Usuario\\\\Desktop\\\\universidad\\\\TFG\\\\UHF-MRI_HM\\\\UHF-MRI_HM\\\\KS_181011\\\\INVESTIGATORS_MHASKELL_20181011_152813_198000\\\\DIXON_VIBE_CAIPIRINHA_4_90DEG_ROT_W_0024'\n",
    "output_folder = 'C:\\\\Users\\\\Usuario\\\\Desktop\\\\universidad\\\\TFG\\\\NIFTI\\\\KS_181011\\\\DIXON_W'\n",
    "dicom2nifti.convert_directory(dicom_directory, output_folder, compression=True, reorient=True)"
   ]
  },
  {
   "cell_type": "code",
   "execution_count": 28,
   "metadata": {},
   "outputs": [],
   "source": [
    "img_2 = nib.load('C:\\\\Users\\\\Usuario\\\\Desktop\\\\universidad\\\\TFG\\\\NIFTI\\\\KS_181011\\\\DIXON_w\\\\24_dixon_vibe_caipirinha_4_90deg_rot_w.nii')"
   ]
  },
  {
   "cell_type": "code",
   "execution_count": 29,
   "metadata": {},
   "outputs": [
    {
     "data": {
      "text/plain": [
       "(192, 128, 192)"
      ]
     },
     "execution_count": 29,
     "metadata": {},
     "output_type": "execute_result"
    }
   ],
   "source": [
    "img_2.shape"
   ]
  },
  {
   "cell_type": "code",
   "execution_count": 38,
   "metadata": {},
   "outputs": [],
   "source": [
    "#SECUENCIA F (Nº SERIE 23)\n",
    "dicom_directory = 'C:\\\\Users\\\\Usuario\\\\Desktop\\\\universidad\\\\TFG\\\\UHF-MRI_HM\\\\UHF-MRI_HM\\\\KS_181011\\\\INVESTIGATORS_MHASKELL_20181011_152813_198000\\\\DIXON_VIBE_CAIPIRINHA_4_90DEG_ROT_F_0023'\n",
    "output_folder = 'C:\\\\Users\\\\Usuario\\\\Desktop\\\\universidad\\\\TFG\\\\NIFTI\\\\KS_181011\\\\DIXON_F'\n",
    "dicom2nifti.convert_directory(dicom_directory, output_folder, compression=True, reorient=True)"
   ]
  },
  {
   "cell_type": "code",
   "execution_count": 39,
   "metadata": {},
   "outputs": [],
   "source": [
    "img_3 = nib.load('C:\\\\Users\\\\Usuario\\\\Desktop\\\\universidad\\\\TFG\\\\NIFTI\\\\KS_181011\\\\DIXON_F\\\\23_dixon_vibe_caipirinha_4_90deg_rot_f.nii')"
   ]
  },
  {
   "cell_type": "code",
   "execution_count": 40,
   "metadata": {},
   "outputs": [
    {
     "data": {
      "text/plain": [
       "(192, 128, 192)"
      ]
     },
     "execution_count": 40,
     "metadata": {},
     "output_type": "execute_result"
    }
   ],
   "source": [
    "img_3.shape"
   ]
  },
  {
   "cell_type": "code",
   "execution_count": 41,
   "metadata": {},
   "outputs": [],
   "source": [
    "#SECUENCIA IN (Nº SERIE 22)\n",
    "dicom_directory = 'C:\\\\Users\\\\Usuario\\\\Desktop\\\\universidad\\\\TFG\\\\UHF-MRI_HM\\\\UHF-MRI_HM\\\\KS_181011\\\\INVESTIGATORS_MHASKELL_20181011_152813_198000\\\\DIXON_VIBE_CAIPIRINHA_4_90DEG_ROT_IN_0022'\n",
    "output_folder = 'C:\\\\Users\\\\Usuario\\\\Desktop\\\\universidad\\\\TFG\\\\NIFTI\\\\KS_181011\\\\DIXON_IN'\n",
    "dicom2nifti.convert_directory(dicom_directory, output_folder, compression=True, reorient=True)"
   ]
  },
  {
   "cell_type": "code",
   "execution_count": 43,
   "metadata": {},
   "outputs": [],
   "source": [
    "img_4 = nib.load('C:\\\\Users\\\\Usuario\\\\Desktop\\\\universidad\\\\TFG\\\\NIFTI\\\\KS_181011\\\\DIXON_IN\\\\22_dixon_vibe_caipirinha_4_90deg_rot_in.nii')"
   ]
  },
  {
   "cell_type": "code",
   "execution_count": 44,
   "metadata": {},
   "outputs": [
    {
     "data": {
      "text/plain": [
       "(192, 128, 192)"
      ]
     },
     "execution_count": 44,
     "metadata": {},
     "output_type": "execute_result"
    }
   ],
   "source": [
    "img_4.shape"
   ]
  },
  {
   "cell_type": "code",
   "execution_count": null,
   "metadata": {},
   "outputs": [],
   "source": []
  }
 ],
 "metadata": {
  "kernelspec": {
   "display_name": "Python 3",
   "language": "python",
   "name": "python3"
  },
  "language_info": {
   "codemirror_mode": {
    "name": "ipython",
    "version": 3
   },
   "file_extension": ".py",
   "mimetype": "text/x-python",
   "name": "python",
   "nbconvert_exporter": "python",
   "pygments_lexer": "ipython3",
   "version": "3.5.0"
  }
 },
 "nbformat": 4,
 "nbformat_minor": 2
}
